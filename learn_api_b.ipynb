{
 "cells": [
  {
   "cell_type": "code",
   "execution_count": null,
   "id": "a53cca84",
   "metadata": {},
   "outputs": [
    {
     "name": "stdout",
     "output_type": "stream",
     "text": [
      " * Serving Flask app '__main__'\n",
      " * Debug mode: off\n"
     ]
    },
    {
     "name": "stderr",
     "output_type": "stream",
     "text": [
      "WARNING: This is a development server. Do not use it in a production deployment. Use a production WSGI server instead.\n",
      " * Running on http://127.0.0.1:5000\n",
      "Press CTRL+C to quit\n",
      "127.0.0.1 - - [30/Aug/2023 19:54:12] \"GET / HTTP/1.1\" 200 -\n",
      "127.0.0.1 - - [30/Aug/2023 19:54:12] \"GET /favicon.ico HTTP/1.1\" 404 -\n",
      "127.0.0.1 - - [30/Aug/2023 19:54:17] \"GET /text HTTP/1.1\" 200 -\n",
      "127.0.0.1 - - [30/Aug/2023 19:54:28] \"GET /text-clean HTTP/1.1\" 200 -\n",
      "127.0.0.1 - - [30/Aug/2023 20:24:30] \"GET / HTTP/1.1\" 200 -\n",
      "127.0.0.1 - - [30/Aug/2023 20:30:51] \"GET /docs/ HTTP/1.1\" 404 -\n",
      "127.0.0.1 - - [30/Aug/2023 20:30:55] \"GET /docs HTTP/1.1\" 404 -\n",
      "127.0.0.1 - - [30/Aug/2023 20:31:41] \"GET /docs HTTP/1.1\" 404 -\n",
      "127.0.0.1 - - [30/Aug/2023 20:33:01] \"GET / HTTP/1.1\" 200 -\n",
      "127.0.0.1 - - [30/Aug/2023 20:33:04] \"GET /docs HTTP/1.1\" 404 -\n",
      "127.0.0.1 - - [30/Aug/2023 20:40:09] \"GET / HTTP/1.1\" 200 -\n",
      "127.0.0.1 - - [30/Aug/2023 20:40:12] \"GET /docs HTTP/1.1\" 404 -\n",
      "127.0.0.1 - - [30/Aug/2023 20:42:51] \"GET / HTTP/1.1\" 200 -\n",
      "127.0.0.1 - - [30/Aug/2023 20:42:54] \"GET /docs HTTP/1.1\" 404 -\n",
      "127.0.0.1 - - [30/Aug/2023 20:42:55] \"GET /docs HTTP/1.1\" 404 -\n",
      "127.0.0.1 - - [30/Aug/2023 20:48:27] \"GET / HTTP/1.1\" 200 -\n",
      "127.0.0.1 - - [30/Aug/2023 20:48:30] \"GET /docs HTTP/1.1\" 404 -\n",
      "127.0.0.1 - - [30/Aug/2023 20:48:30] \"GET /docs HTTP/1.1\" 404 -\n",
      "127.0.0.1 - - [30/Aug/2023 20:52:43] \"GET / HTTP/1.1\" 200 -\n",
      "127.0.0.1 - - [30/Aug/2023 20:52:46] \"GET /docs HTTP/1.1\" 404 -\n",
      "127.0.0.1 - - [30/Aug/2023 20:52:46] \"GET /docs HTTP/1.1\" 404 -\n"
     ]
    }
   ],
   "source": [
    "import re\n",
    "\n",
    "from flask import Flask, jsonify\n",
    "\n",
    "app = Flask(__name__)\n",
    "\n",
    "@app.route('/', methods=['GET'])\n",
    "def hello_world():\n",
    "    json_response = {\n",
    "        'status_code': 200,\n",
    "        'description': \"Menyapa Hello World\",\n",
    "        'data': 'Hello World'\n",
    "    }\n",
    "    \n",
    "    response_data = jsonify(json_response)\n",
    "    return response_data\n",
    "\n",
    "@app.route('/text', methods=['GET'])\n",
    "def text():\n",
    "    json_response = {\n",
    "        'status_code': 200,\n",
    "        'description': \"Original Teks\",\n",
    "        'data': 'Halo, apa kabar semua?'\n",
    "    }\n",
    "    \n",
    "    response_data = jsonify(json_response)\n",
    "    return response_data\n",
    "\n",
    "@app.route('/text-clean', methods=['GET'])\n",
    "def text_clean():\n",
    "    json_response = {\n",
    "        'status_code': 200,\n",
    "        'description': \"Original Teks\",\n",
    "        'data': re.sub(r'[^a-zA-Z0-9]',' ', \"Halo, apa kabar semua?\")\n",
    "    }\n",
    "    \n",
    "    response_data = jsonify(json_response)\n",
    "    return response_data\n",
    "\n",
    "if __name__ == \"__main__\":\n",
    "    app.run()"
   ]
  },
  {
   "cell_type": "code",
   "execution_count": null,
   "id": "ee55beec",
   "metadata": {},
   "outputs": [],
   "source": []
  }
 ],
 "metadata": {
  "kernelspec": {
   "display_name": "Python 3 (ipykernel)",
   "language": "python",
   "name": "python3"
  },
  "language_info": {
   "codemirror_mode": {
    "name": "ipython",
    "version": 3
   },
   "file_extension": ".py",
   "mimetype": "text/x-python",
   "name": "python",
   "nbconvert_exporter": "python",
   "pygments_lexer": "ipython3",
   "version": "3.11.4"
  }
 },
 "nbformat": 4,
 "nbformat_minor": 5
}
